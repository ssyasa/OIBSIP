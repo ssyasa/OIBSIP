{
  "metadata": {
    "kernelspec": {
      "name": "python3",
      "display_name": "Python 3",
      "language": "python"
    },
    "language_info": {
      "name": "python",
      "version": "3.10.12",
      "mimetype": "text/x-python",
      "codemirror_mode": {
        "name": "ipython",
        "version": 3
      },
      "pygments_lexer": "ipython3",
      "nbconvert_exporter": "python",
      "file_extension": ".py"
    },
    "colab": {
      "provenance": []
    }
  },
  "nbformat_minor": 0,
  "nbformat": 4,
  "cells": [
    {
      "cell_type": "markdown",
      "source": [
        "### Task 1\n",
        "# Iris Flower Classification"
      ],
      "metadata": {
        "id": "FUqzTdsLtucg"
      }
    },
    {
      "cell_type": "code",
      "source": [
        "import numpy as np\n",
        "import pandas as pd\n",
        "from sklearn.neighbors import KNeighborsClassifier\n",
        "from sklearn.model_selection import train_test_split\n",
        "from sklearn import metrics"
      ],
      "metadata": {
        "execution": {
          "iopub.status.busy": "2023-09-12T07:13:26.200898Z",
          "iopub.execute_input": "2023-09-12T07:13:26.201487Z",
          "iopub.status.idle": "2023-09-12T07:13:26.206082Z",
          "shell.execute_reply.started": "2023-09-12T07:13:26.201451Z",
          "shell.execute_reply": "2023-09-12T07:13:26.204988Z"
        },
        "trusted": true,
        "id": "GfIoGRtVtucl"
      },
      "execution_count": null,
      "outputs": []
    },
    {
      "cell_type": "code",
      "source": [
        "from google.colab import drive\n",
        "drive.mount('/content/drive')"
      ],
      "metadata": {
        "colab": {
          "base_uri": "https://localhost:8080/"
        },
        "id": "lFKIfeu_XoZN",
        "outputId": "f8e33b02-142f-4cf9-ef68-14013762b55d"
      },
      "execution_count": null,
      "outputs": [
        {
          "output_type": "stream",
          "name": "stdout",
          "text": [
            "Drive already mounted at /content/drive; to attempt to forcibly remount, call drive.mount(\"/content/drive\", force_remount=True).\n"
          ]
        }
      ]
    },
    {
      "cell_type": "code",
      "source": [
        "df = pd.read_csv(\"/content/drive/MyDrive/Iris.csv\")"
      ],
      "metadata": {
        "execution": {
          "iopub.status.busy": "2023-09-12T07:13:26.209693Z",
          "iopub.execute_input": "2023-09-12T07:13:26.210047Z",
          "iopub.status.idle": "2023-09-12T07:13:26.222050Z",
          "shell.execute_reply.started": "2023-09-12T07:13:26.210019Z",
          "shell.execute_reply": "2023-09-12T07:13:26.221004Z"
        },
        "trusted": true,
        "id": "OVWkUZL0tucp"
      },
      "execution_count": null,
      "outputs": []
    },
    {
      "cell_type": "code",
      "source": [
        "print(\"Shape of the dataset:\", df.shape)"
      ],
      "metadata": {
        "execution": {
          "iopub.status.busy": "2023-09-12T07:13:26.223826Z",
          "iopub.execute_input": "2023-09-12T07:13:26.224769Z",
          "iopub.status.idle": "2023-09-12T07:13:26.231042Z",
          "shell.execute_reply.started": "2023-09-12T07:13:26.224736Z",
          "shell.execute_reply": "2023-09-12T07:13:26.230104Z"
        },
        "trusted": true,
        "colab": {
          "base_uri": "https://localhost:8080/"
        },
        "id": "cgNNvNEvtucq",
        "outputId": "3d2c3dcf-909f-4723-fbe6-b132533bdf43"
      },
      "execution_count": null,
      "outputs": [
        {
          "output_type": "stream",
          "name": "stdout",
          "text": [
            "Shape of the dataset: (150, 6)\n"
          ]
        }
      ]
    },
    {
      "cell_type": "code",
      "source": [
        "df = df.drop(columns=[\"Id\"])"
      ],
      "metadata": {
        "execution": {
          "iopub.status.busy": "2023-09-12T07:13:26.232241Z",
          "iopub.execute_input": "2023-09-12T07:13:26.232909Z",
          "iopub.status.idle": "2023-09-12T07:13:26.243157Z",
          "shell.execute_reply.started": "2023-09-12T07:13:26.232869Z",
          "shell.execute_reply": "2023-09-12T07:13:26.242070Z"
        },
        "trusted": true,
        "id": "cQ4hecbGtucq"
      },
      "execution_count": null,
      "outputs": []
    },
    {
      "cell_type": "code",
      "source": [
        "print(\"Modified DataFrame:\")\n",
        "print(df.head())"
      ],
      "metadata": {
        "execution": {
          "iopub.status.busy": "2023-09-12T07:13:26.245783Z",
          "iopub.execute_input": "2023-09-12T07:13:26.246130Z",
          "iopub.status.idle": "2023-09-12T07:13:26.259076Z",
          "shell.execute_reply.started": "2023-09-12T07:13:26.246103Z",
          "shell.execute_reply": "2023-09-12T07:13:26.258121Z"
        },
        "trusted": true,
        "colab": {
          "base_uri": "https://localhost:8080/"
        },
        "id": "Mt1xOGvptucr",
        "outputId": "5d9a3771-57ae-490c-f690-851456b790db"
      },
      "execution_count": null,
      "outputs": [
        {
          "output_type": "stream",
          "name": "stdout",
          "text": [
            "Modified DataFrame:\n",
            "   SepalLengthCm  SepalWidthCm  PetalLengthCm  PetalWidthCm      Species\n",
            "0            5.1           3.5            1.4           0.2  Iris-setosa\n",
            "1            4.9           3.0            1.4           0.2  Iris-setosa\n",
            "2            4.7           3.2            1.3           0.2  Iris-setosa\n",
            "3            4.6           3.1            1.5           0.2  Iris-setosa\n",
            "4            5.0           3.6            1.4           0.2  Iris-setosa\n"
          ]
        }
      ]
    },
    {
      "cell_type": "code",
      "source": [
        "df[\"Species\"].replace({\"Iris-setosa\": 1, \"Iris-versicolor\": 2, \"Iris-virginica\": 3}, inplace=True)"
      ],
      "metadata": {
        "execution": {
          "iopub.status.busy": "2023-09-12T07:13:26.260281Z",
          "iopub.execute_input": "2023-09-12T07:13:26.260635Z",
          "iopub.status.idle": "2023-09-12T07:13:26.266756Z",
          "shell.execute_reply.started": "2023-09-12T07:13:26.260606Z",
          "shell.execute_reply": "2023-09-12T07:13:26.265857Z"
        },
        "trusted": true,
        "id": "Emd7TuO0tucr"
      },
      "execution_count": null,
      "outputs": []
    },
    {
      "cell_type": "code",
      "source": [
        "x = pd.DataFrame(df, columns=[\"SepalLengthCm\", \"SepalWidthCm\", \"PetalLengthCm\", \"PetalWidthCm\"]).values"
      ],
      "metadata": {
        "execution": {
          "iopub.status.busy": "2023-09-12T07:13:26.267788Z",
          "iopub.execute_input": "2023-09-12T07:13:26.268664Z",
          "iopub.status.idle": "2023-09-12T07:13:26.279544Z",
          "shell.execute_reply.started": "2023-09-12T07:13:26.268629Z",
          "shell.execute_reply": "2023-09-12T07:13:26.278624Z"
        },
        "trusted": true,
        "id": "y7gAdp-9tucr"
      },
      "execution_count": null,
      "outputs": []
    },
    {
      "cell_type": "code",
      "source": [
        "y = df.Species.values.reshape(-1, 1)"
      ],
      "metadata": {
        "execution": {
          "iopub.status.busy": "2023-09-12T07:13:26.280621Z",
          "iopub.execute_input": "2023-09-12T07:13:26.281354Z",
          "iopub.status.idle": "2023-09-12T07:13:26.291275Z",
          "shell.execute_reply.started": "2023-09-12T07:13:26.281327Z",
          "shell.execute_reply": "2023-09-12T07:13:26.290370Z"
        },
        "trusted": true,
        "id": "RZYUGQ3Vtucs"
      },
      "execution_count": null,
      "outputs": []
    },
    {
      "cell_type": "code",
      "source": [
        "x_train, x_test, y_train, y_test = train_test_split(x, y, test_size=0.30, random_state=42)\n"
      ],
      "metadata": {
        "execution": {
          "iopub.status.busy": "2023-09-12T07:13:26.292576Z",
          "iopub.execute_input": "2023-09-12T07:13:26.293100Z",
          "iopub.status.idle": "2023-09-12T07:13:26.304586Z",
          "shell.execute_reply.started": "2023-09-12T07:13:26.293073Z",
          "shell.execute_reply": "2023-09-12T07:13:26.303572Z"
        },
        "trusted": true,
        "id": "O15aK1WHtucs"
      },
      "execution_count": null,
      "outputs": []
    },
    {
      "cell_type": "code",
      "source": [
        "print(\"Shape of x_train:\", x_train.shape)\n",
        "print(\"Shape of y_train:\", y_train.shape)\n"
      ],
      "metadata": {
        "execution": {
          "iopub.status.busy": "2023-09-12T07:13:26.306271Z",
          "iopub.execute_input": "2023-09-12T07:13:26.307213Z",
          "iopub.status.idle": "2023-09-12T07:13:26.316379Z",
          "shell.execute_reply.started": "2023-09-12T07:13:26.307175Z",
          "shell.execute_reply": "2023-09-12T07:13:26.315353Z"
        },
        "trusted": true,
        "colab": {
          "base_uri": "https://localhost:8080/"
        },
        "id": "WZp77S4xtucs",
        "outputId": "3f0b3b91-3440-467d-f4a4-9f7a3e8f911d"
      },
      "execution_count": null,
      "outputs": [
        {
          "output_type": "stream",
          "name": "stdout",
          "text": [
            "Shape of x_train: (105, 4)\n",
            "Shape of y_train: (105, 1)\n"
          ]
        }
      ]
    },
    {
      "cell_type": "code",
      "source": [
        "\n",
        "x_train, x_test, y_train, y_test = train_test_split(x, y, test_size=0.2, random_state=42)\n",
        "\n",
        "knn_classifier = KNeighborsClassifier(n_neighbors=3)\n",
        "\n",
        "knn_classifier.fit(x_train, y_train.ravel())\n",
        "\n",
        "y_pred = knn_classifier.predict(x_test)\n",
        "\n",
        "accuracy = metrics.accuracy_score(y_test, y_pred)\n",
        "precision = metrics.precision_score(y_test, y_pred, average=\"weighted\")\n",
        "recall = metrics.recall_score(y_test, y_pred, average=\"weighted\")\n",
        "f1_score = metrics.f1_score(y_test, y_pred, average=\"weighted\")\n",
        "\n",
        "print(\"Accuracy:\", accuracy)\n",
        "print(\"Precision:\", precision)\n",
        "print(\"Recall:\", recall)\n",
        "print(\"F1 Score:\", f1_score)\n"
      ],
      "metadata": {
        "colab": {
          "base_uri": "https://localhost:8080/"
        },
        "id": "NVP2T1rHtucu",
        "outputId": "d924d0f7-8f9e-4a77-c011-3f38d6ae4ccc"
      },
      "execution_count": null,
      "outputs": [
        {
          "output_type": "stream",
          "name": "stdout",
          "text": [
            "Accuracy: 1.0\n",
            "Precision: 1.0\n",
            "Recall: 1.0\n",
            "F1 Score: 1.0\n"
          ]
        }
      ]
    },
    {
      "cell_type": "code",
      "source": [
        "k = 6"
      ],
      "metadata": {
        "execution": {
          "iopub.status.busy": "2023-09-12T07:13:26.319755Z",
          "iopub.execute_input": "2023-09-12T07:13:26.320067Z",
          "iopub.status.idle": "2023-09-12T07:13:26.326868Z",
          "shell.execute_reply.started": "2023-09-12T07:13:26.320043Z",
          "shell.execute_reply": "2023-09-12T07:13:26.325809Z"
        },
        "trusted": true,
        "id": "xIxELCdOtuct"
      },
      "execution_count": null,
      "outputs": []
    },
    {
      "cell_type": "code",
      "source": [
        "knclr = KNeighborsClassifier(n_neighbors=k)"
      ],
      "metadata": {
        "execution": {
          "iopub.status.busy": "2023-09-12T07:13:26.327878Z",
          "iopub.execute_input": "2023-09-12T07:13:26.328568Z",
          "iopub.status.idle": "2023-09-12T07:13:26.341122Z",
          "shell.execute_reply.started": "2023-09-12T07:13:26.328509Z",
          "shell.execute_reply": "2023-09-12T07:13:26.340021Z"
        },
        "trusted": true,
        "id": "GEeJYo9Btuct"
      },
      "execution_count": null,
      "outputs": []
    },
    {
      "cell_type": "code",
      "source": [
        "knclr.fit(x_train, y_train)"
      ],
      "metadata": {
        "execution": {
          "iopub.status.busy": "2023-09-12T07:13:26.342393Z",
          "iopub.execute_input": "2023-09-12T07:13:26.343356Z",
          "iopub.status.idle": "2023-09-12T07:13:26.358689Z",
          "shell.execute_reply.started": "2023-09-12T07:13:26.343325Z",
          "shell.execute_reply": "2023-09-12T07:13:26.357674Z"
        },
        "trusted": true,
        "colab": {
          "base_uri": "https://localhost:8080/",
          "height": 131
        },
        "id": "S2FHEkeFtuct",
        "outputId": "5dc726a1-2be9-45b8-a194-fca4f0899f77"
      },
      "execution_count": null,
      "outputs": [
        {
          "output_type": "stream",
          "name": "stderr",
          "text": [
            "/usr/local/lib/python3.10/dist-packages/sklearn/neighbors/_classification.py:215: DataConversionWarning: A column-vector y was passed when a 1d array was expected. Please change the shape of y to (n_samples,), for example using ravel().\n",
            "  return self._fit(X, y)\n"
          ]
        },
        {
          "output_type": "execute_result",
          "data": {
            "text/plain": [
              "KNeighborsClassifier(n_neighbors=6)"
            ],
            "text/html": [
              "<style>#sk-container-id-2 {color: black;background-color: white;}#sk-container-id-2 pre{padding: 0;}#sk-container-id-2 div.sk-toggleable {background-color: white;}#sk-container-id-2 label.sk-toggleable__label {cursor: pointer;display: block;width: 100%;margin-bottom: 0;padding: 0.3em;box-sizing: border-box;text-align: center;}#sk-container-id-2 label.sk-toggleable__label-arrow:before {content: \"▸\";float: left;margin-right: 0.25em;color: #696969;}#sk-container-id-2 label.sk-toggleable__label-arrow:hover:before {color: black;}#sk-container-id-2 div.sk-estimator:hover label.sk-toggleable__label-arrow:before {color: black;}#sk-container-id-2 div.sk-toggleable__content {max-height: 0;max-width: 0;overflow: hidden;text-align: left;background-color: #f0f8ff;}#sk-container-id-2 div.sk-toggleable__content pre {margin: 0.2em;color: black;border-radius: 0.25em;background-color: #f0f8ff;}#sk-container-id-2 input.sk-toggleable__control:checked~div.sk-toggleable__content {max-height: 200px;max-width: 100%;overflow: auto;}#sk-container-id-2 input.sk-toggleable__control:checked~label.sk-toggleable__label-arrow:before {content: \"▾\";}#sk-container-id-2 div.sk-estimator input.sk-toggleable__control:checked~label.sk-toggleable__label {background-color: #d4ebff;}#sk-container-id-2 div.sk-label input.sk-toggleable__control:checked~label.sk-toggleable__label {background-color: #d4ebff;}#sk-container-id-2 input.sk-hidden--visually {border: 0;clip: rect(1px 1px 1px 1px);clip: rect(1px, 1px, 1px, 1px);height: 1px;margin: -1px;overflow: hidden;padding: 0;position: absolute;width: 1px;}#sk-container-id-2 div.sk-estimator {font-family: monospace;background-color: #f0f8ff;border: 1px dotted black;border-radius: 0.25em;box-sizing: border-box;margin-bottom: 0.5em;}#sk-container-id-2 div.sk-estimator:hover {background-color: #d4ebff;}#sk-container-id-2 div.sk-parallel-item::after {content: \"\";width: 100%;border-bottom: 1px solid gray;flex-grow: 1;}#sk-container-id-2 div.sk-label:hover label.sk-toggleable__label {background-color: #d4ebff;}#sk-container-id-2 div.sk-serial::before {content: \"\";position: absolute;border-left: 1px solid gray;box-sizing: border-box;top: 0;bottom: 0;left: 50%;z-index: 0;}#sk-container-id-2 div.sk-serial {display: flex;flex-direction: column;align-items: center;background-color: white;padding-right: 0.2em;padding-left: 0.2em;position: relative;}#sk-container-id-2 div.sk-item {position: relative;z-index: 1;}#sk-container-id-2 div.sk-parallel {display: flex;align-items: stretch;justify-content: center;background-color: white;position: relative;}#sk-container-id-2 div.sk-item::before, #sk-container-id-2 div.sk-parallel-item::before {content: \"\";position: absolute;border-left: 1px solid gray;box-sizing: border-box;top: 0;bottom: 0;left: 50%;z-index: -1;}#sk-container-id-2 div.sk-parallel-item {display: flex;flex-direction: column;z-index: 1;position: relative;background-color: white;}#sk-container-id-2 div.sk-parallel-item:first-child::after {align-self: flex-end;width: 50%;}#sk-container-id-2 div.sk-parallel-item:last-child::after {align-self: flex-start;width: 50%;}#sk-container-id-2 div.sk-parallel-item:only-child::after {width: 0;}#sk-container-id-2 div.sk-dashed-wrapped {border: 1px dashed gray;margin: 0 0.4em 0.5em 0.4em;box-sizing: border-box;padding-bottom: 0.4em;background-color: white;}#sk-container-id-2 div.sk-label label {font-family: monospace;font-weight: bold;display: inline-block;line-height: 1.2em;}#sk-container-id-2 div.sk-label-container {text-align: center;}#sk-container-id-2 div.sk-container {/* jupyter's `normalize.less` sets `[hidden] { display: none; }` but bootstrap.min.css set `[hidden] { display: none !important; }` so we also need the `!important` here to be able to override the default hidden behavior on the sphinx rendered scikit-learn.org. See: https://github.com/scikit-learn/scikit-learn/issues/21755 */display: inline-block !important;position: relative;}#sk-container-id-2 div.sk-text-repr-fallback {display: none;}</style><div id=\"sk-container-id-2\" class=\"sk-top-container\"><div class=\"sk-text-repr-fallback\"><pre>KNeighborsClassifier(n_neighbors=6)</pre><b>In a Jupyter environment, please rerun this cell to show the HTML representation or trust the notebook. <br />On GitHub, the HTML representation is unable to render, please try loading this page with nbviewer.org.</b></div><div class=\"sk-container\" hidden><div class=\"sk-item\"><div class=\"sk-estimator sk-toggleable\"><input class=\"sk-toggleable__control sk-hidden--visually\" id=\"sk-estimator-id-2\" type=\"checkbox\" checked><label for=\"sk-estimator-id-2\" class=\"sk-toggleable__label sk-toggleable__label-arrow\">KNeighborsClassifier</label><div class=\"sk-toggleable__content\"><pre>KNeighborsClassifier(n_neighbors=6)</pre></div></div></div></div></div>"
            ]
          },
          "metadata": {},
          "execution_count": 36
        }
      ]
    },
    {
      "cell_type": "code",
      "source": [
        "y_pred = knclr.predict(x_test)"
      ],
      "metadata": {
        "execution": {
          "iopub.status.busy": "2023-09-12T07:13:26.360164Z",
          "iopub.execute_input": "2023-09-12T07:13:26.360594Z",
          "iopub.status.idle": "2023-09-12T07:13:26.372751Z",
          "shell.execute_reply.started": "2023-09-12T07:13:26.360562Z",
          "shell.execute_reply": "2023-09-12T07:13:26.371861Z"
        },
        "trusted": true,
        "id": "TPGOhMoItucu"
      },
      "execution_count": null,
      "outputs": []
    },
    {
      "cell_type": "code",
      "source": [
        "accuracy = metrics.accuracy_score(y_test, y_pred) * 100\n",
        "print(\"Accuracy of the K-Nearest Neighbors classifier:\", accuracy)"
      ],
      "metadata": {
        "execution": {
          "iopub.status.busy": "2023-09-12T07:13:26.374062Z",
          "iopub.execute_input": "2023-09-12T07:13:26.374611Z",
          "iopub.status.idle": "2023-09-12T07:13:26.383280Z",
          "shell.execute_reply.started": "2023-09-12T07:13:26.374582Z",
          "shell.execute_reply": "2023-09-12T07:13:26.382186Z"
        },
        "trusted": true,
        "colab": {
          "base_uri": "https://localhost:8080/"
        },
        "id": "OhL52VhKtucu",
        "outputId": "2ea0bf81-ae73-484b-802b-57424cb496fc"
      },
      "execution_count": null,
      "outputs": [
        {
          "output_type": "stream",
          "name": "stdout",
          "text": [
            "Accuracy of the K-Nearest Neighbors classifier: 100.0\n"
          ]
        }
      ]
    },
    {
      "cell_type": "code",
      "source": [],
      "metadata": {
        "id": "2OYROTevuvRx"
      },
      "execution_count": null,
      "outputs": []
    }
  ]
}